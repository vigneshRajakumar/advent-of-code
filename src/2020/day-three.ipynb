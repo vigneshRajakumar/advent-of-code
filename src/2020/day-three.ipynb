{
 "cells": [
  {
   "cell_type": "markdown",
   "metadata": {},
   "source": [
    "# Day 3\n",
    "## Part 1\n",
    "\n",
    "> slope 1, 3. Count number of trees"
   ]
  },
  {
   "cell_type": "code",
   "execution_count": 20,
   "metadata": {},
   "outputs": [],
   "source": [
    "from aocd.models import Puzzle\n",
    "import numpy as np\n",
    "from functools import reduce"
   ]
  },
  {
   "cell_type": "code",
   "execution_count": 2,
   "metadata": {},
   "outputs": [],
   "source": [
    "puzzle = Puzzle(year=2020, day=3)"
   ]
  },
  {
   "cell_type": "markdown",
   "metadata": {},
   "source": [
    "First things first: convert that wall of text to a usable form. I went with a 2-D `np.ndarray`."
   ]
  },
  {
   "cell_type": "code",
   "execution_count": 9,
   "metadata": {},
   "outputs": [
    {
     "data": {
      "text/plain": [
       "(323, 31)"
      ]
     },
     "execution_count": 9,
     "metadata": {},
     "output_type": "execute_result"
    }
   ],
   "source": [
    "lines = puzzle.input_data.splitlines()\n",
    "n = len(lines)\n",
    "m = len(lines[0])\n",
    "\n",
    "geology = np.empty(shape=(n, m), dtype=str)\n",
    "\n",
    "for i, line in enumerate(lines):\n",
    "    for j, slot in enumerate(line):\n",
    "        geology[i, j] = slot\n",
    "\n",
    "geology.shape"
   ]
  },
  {
   "cell_type": "markdown",
   "metadata": {},
   "source": [
    "Once we have the geology in a matrix, we need to loop through the rows to get to the bottom. We need to repeat the matrix to the right and I achieved that with some `%` hacking. This should be pretty efficient at O(n)"
   ]
  },
  {
   "cell_type": "code",
   "execution_count": 16,
   "metadata": {},
   "outputs": [
    {
     "data": {
      "text/plain": [
       "187"
      ]
     },
     "execution_count": 16,
     "metadata": {},
     "output_type": "execute_result"
    }
   ],
   "source": [
    "i = j = 0\n",
    "count = 0\n",
    "while i < geology.shape[0]:\n",
    "    if geology[i, j] == '#':\n",
    "        count += 1\n",
    "    i += 1\n",
    "    j += 3\n",
    "    j = j % geology.shape[1]\n",
    "\n",
    "count"
   ]
  },
  {
   "cell_type": "code",
   "execution_count": 17,
   "metadata": {},
   "outputs": [
    {
     "name": "stdout",
     "output_type": "stream",
     "text": [
      "That's the right answer!  You are one gold star closer to saving your vacation. [Continue to Part Two]\n"
     ]
    }
   ],
   "source": [
    "puzzle.answer_a = count"
   ]
  },
  {
   "cell_type": "markdown",
   "metadata": {},
   "source": [
    "# Part 2\n",
    "\n",
    "> Do the same thing but with multiple different slopes.\n",
    "\n",
    "Let's [DRY](https://en.wikipedia.org/wiki/Don%27t_repeat_yourself) the code a bit. That should let me coast through part 2."
   ]
  },
  {
   "cell_type": "code",
   "execution_count": 18,
   "metadata": {},
   "outputs": [],
   "source": [
    "def count_trees(geology, slope):\n",
    "    \"\"\"\n",
    "    count the number of trees in a given slope\n",
    "    \n",
    "    Parameters\n",
    "    ----------\n",
    "    geology ndarray:\n",
    "        2-D array with the positions of trees marked with #\n",
    "    slope tuple:\n",
    "        a tuple with the slope in the format: (side steps, down steps)\n",
    "    \n",
    "    Returns\n",
    "    -------\n",
    "    int:\n",
    "        number of trees for slope\n",
    "    \"\"\"\n",
    "    i = j = 0\n",
    "    count = 0\n",
    "    while i < geology.shape[0]:\n",
    "        if geology[i, j] == '#':\n",
    "            count += 1\n",
    "        i += slope[0]\n",
    "        j += slope[1]\n",
    "        j = j % geology.shape[1]\n",
    "    return count    "
   ]
  },
  {
   "cell_type": "markdown",
   "metadata": {},
   "source": [
    "From the problem description:\n",
    "\n",
    ">- Right 1, down 1.\n",
    ">- Right 3, down 1. (This is the slope you already checked.)\n",
    ">- Right 5, down 1.\n",
    ">- Right 7, down 1.\n",
    ">- Right 1, down 2."
   ]
  },
  {
   "cell_type": "markdown",
   "metadata": {},
   "source": [
    "I am going to use `map`-`reduce` because, why not?"
   ]
  },
  {
   "cell_type": "code",
   "execution_count": 23,
   "metadata": {},
   "outputs": [],
   "source": [
    "slopes = [\n",
    "    (1,1),\n",
    "    (1,3),\n",
    "    (1,5),\n",
    "    (1,7),\n",
    "    (2,1)\n",
    "]\n",
    "\n",
    "prod = reduce(lambda x, y: x*y, map(lambda x: count_trees(geology, x), slopes))"
   ]
  },
  {
   "cell_type": "code",
   "execution_count": 24,
   "metadata": {},
   "outputs": [
    {
     "name": "stdout",
     "output_type": "stream",
     "text": [
      "That's the right answer!  You are one gold star closer to saving your vacation.You have completed Day 3! You can [Shareon\n",
      "  Twitter\n",
      "Mastodon] this victory or [Return to Your Advent Calendar].\n"
     ]
    }
   ],
   "source": [
    "puzzle.answer_b = prod"
   ]
  }
 ],
 "metadata": {
  "kernelspec": {
   "display_name": "Python [conda env:advent]",
   "language": "python",
   "name": "conda-env-advent-py"
  },
  "language_info": {
   "codemirror_mode": {
    "name": "ipython",
    "version": 3
   },
   "file_extension": ".py",
   "mimetype": "text/x-python",
   "name": "python",
   "nbconvert_exporter": "python",
   "pygments_lexer": "ipython3",
   "version": "3.8.6"
  }
 },
 "nbformat": 4,
 "nbformat_minor": 4
}
