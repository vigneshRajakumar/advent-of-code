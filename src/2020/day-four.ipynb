{
 "cells": [
  {
   "cell_type": "markdown",
   "metadata": {},
   "source": [
    "# Day 4\r\n",
    "## Part 1\r\n",
    "\r\n",
    "> Count the number of valid passports - those that have all required fields. Treat cid as optional. In your batch file, how many passports are valid?"
   ]
  },
  {
   "cell_type": "code",
   "execution_count": 2,
   "metadata": {},
   "outputs": [],
   "source": [
    "from aocd.models import Puzzle\r\n",
    "import numpy as np\r\n",
    "import re"
   ]
  },
  {
   "cell_type": "code",
   "execution_count": 3,
   "metadata": {},
   "outputs": [],
   "source": [
    "puzzle = Puzzle(year=2020, day=4)"
   ]
  },
  {
   "cell_type": "markdown",
   "metadata": {},
   "source": [
    "I'm creating a class for Passports first up:"
   ]
  },
  {
   "cell_type": "code",
   "execution_count": 4,
   "metadata": {},
   "outputs": [],
   "source": [
    "class Passport:\r\n",
    "    def __init__(self, attr_dict):\r\n",
    "        self.birth_year = attr_dict.get('byr', None)\r\n",
    "        self.issue_year = attr_dict.get('iyr', None)\r\n",
    "        self.exp_year = attr_dict.get('eyr', None)\r\n",
    "        self.height = attr_dict.get('hgt', None)\r\n",
    "        self.hair_color = attr_dict.get('hcl', None)\r\n",
    "        self.eye_color = attr_dict.get('ecl', None)\r\n",
    "        self.passport_id = attr_dict.get('pid', None)\r\n",
    "        self.country_id = attr_dict.get('cid', None)\r\n",
    "    \r\n",
    "    def is_valid(self):\r\n",
    "        if self.birth_year and self.issue_year and self.exp_year and self.height and self.hair_color and self.eye_color and self.passport_id:\r\n",
    "            return True\r\n",
    "        return False"
   ]
  },
  {
   "cell_type": "markdown",
   "metadata": {},
   "source": [
    "Instead of a `Builder` class i'll use this function:"
   ]
  },
  {
   "cell_type": "code",
   "execution_count": 5,
   "metadata": {},
   "outputs": [],
   "source": [
    "def make_passport(s):\r\n",
    "    prop_dict = {}\r\n",
    "    for line in s.splitlines():\r\n",
    "        for prop in line.split(' '):\r\n",
    "            k, v = prop.split(':')\r\n",
    "            prop_dict[k] = v\r\n",
    "    \r\n",
    "    return Passport(prop_dict)\r\n",
    "\r\n",
    "\r\n",
    "## Test\r\n",
    "s = \"\"\"ecl:gry pid:860033327 eyr:2020 hcl:#fffffd\r\n",
    "byr:1937 iyr:2017 cid:147 hgt:183cm\"\"\"\r\n",
    "\r\n",
    "assert make_passport(s).is_valid()\r\n",
    "\r\n",
    "s = \"\"\"iyr:2013 ecl:amb cid:350 eyr:2023 pid:028048884\r\n",
    "hcl:#cfa07d byr:1929\"\"\"\r\n",
    "\r\n",
    "assert not make_passport(s).is_valid()\r\n",
    "\r\n",
    "s = \"\"\"hcl:#ae17e1 iyr:2013\r\n",
    "eyr:2024\r\n",
    "ecl:brn pid:760753108 byr:1931\r\n",
    "hgt:179cm\"\"\"\r\n",
    "\r\n",
    "assert make_passport(s).is_valid()\r\n"
   ]
  },
  {
   "cell_type": "markdown",
   "metadata": {},
   "source": [
    "and this driver code to get the valid passports:"
   ]
  },
  {
   "cell_type": "code",
   "execution_count": 6,
   "metadata": {},
   "outputs": [
    {
     "data": {
      "text/plain": "228"
     },
     "execution_count": 6,
     "metadata": {},
     "output_type": "execute_result"
    }
   ],
   "source": [
    "passport_string = \"\"\r\n",
    "valid_passports = 0\r\n",
    "for line in puzzle.input_data.splitlines():\r\n",
    "    if line == \"\":\r\n",
    "        if make_passport(passport_string).is_valid():\r\n",
    "            valid_passports += 1\r\n",
    "        passport_string = \"\"\r\n",
    "    else:\r\n",
    "        passport_string += line\r\n",
    "        passport_string += '\\n'\r\n",
    "\r\n",
    "if make_passport(passport_string).is_valid():\r\n",
    "    valid_passports += 1\r\n",
    "\r\n",
    "valid_passports"
   ]
  },
  {
   "cell_type": "code",
   "execution_count": 7,
   "metadata": {},
   "outputs": [],
   "source": [
    "puzzle.answer_a = valid_passports"
   ]
  },
  {
   "cell_type": "markdown",
   "metadata": {},
   "source": [
    "## Part 2\r\n",
    "\r\n",
    "I decided to extend the previous class and convert the fields into objects instead of strings; each with their own validation implementations. I also used a dictionary of lambda functions to implement a `Factory` for my fields"
   ]
  },
  {
   "cell_type": "code",
   "execution_count": 10,
   "metadata": {},
   "outputs": [],
   "source": [
    "class Field:\r\n",
    "    def __init__(self, s):\r\n",
    "        self.field = s\r\n",
    "\r\n",
    "    def is_valid(self):\r\n",
    "        pass\r\n",
    "\r\n",
    "class Year(Field):\r\n",
    "    def is_valid(self):\r\n",
    "        if re.match(r'^[0-9]{4}$', self.field):\r\n",
    "            return True\r\n",
    "        return False\r\n",
    "\r\n",
    "class BirthYear(Year):\r\n",
    "    def is_valid(self):\r\n",
    "        return super().is_valid() and int(self.field) >= 1920 and int(self.field) <= 2002\r\n",
    "            \r\n",
    "class IssueYear(Year):\r\n",
    "    def is_valid(self):\r\n",
    "        return super().is_valid() and int(self.field) >= 2010 and int(self.field) <= 2020\r\n",
    "    \r\n",
    "class ExpYear(Year):\r\n",
    "    def is_valid(self):\r\n",
    "        return super().is_valid() and int(self.field) >= 2020 and int(self.field) <= 2030\r\n",
    "\r\n",
    "class Height(Field):\r\n",
    "    def is_valid(self):\r\n",
    "        m = re.match(r'(^[0-9]*)(cm|in)$', self.field)\r\n",
    "        if not m:\r\n",
    "            return False\r\n",
    "        if m.groups()[1] == 'cm':\r\n",
    "            return int(m.groups()[0]) >= 150 and int(m.groups()[0]) <= 193\r\n",
    "        if m.groups()[1] == 'in':\r\n",
    "            return int(m.groups()[0]) >= 59 and int(m.groups()[0]) <= 76\r\n",
    "\r\n",
    "class HairColor(Field):\r\n",
    "    def is_valid(self):\r\n",
    "        if re.match(r'^#[a-fA-F0-9]{6}$', self.field):\r\n",
    "            return True\r\n",
    "        return False\r\n",
    "\r\n",
    "class EyeColor(Field):\r\n",
    "    def is_valid(self):\r\n",
    "        if re.match(r'^(amb|blu|brn|gry|grn|hzl|oth)$', self.field):\r\n",
    "            return True\r\n",
    "        return False\r\n",
    "\r\n",
    "class PassportId(Field):\r\n",
    "    def is_valid(self):\r\n",
    "        if re.match(r'^[0-9]{9}$', self.field):\r\n",
    "            return True\r\n",
    "        return False\r\n",
    "\r\n",
    "class StrictPassport(Passport):\r\n",
    "    def is_valid(self):\r\n",
    "        if not super().is_valid():\r\n",
    "            return False\r\n",
    "        \r\n",
    "        fields = [\r\n",
    "            self.birth_year,\r\n",
    "            self.issue_year,\r\n",
    "            self.exp_year,\r\n",
    "            self.height,\r\n",
    "            self.hair_color,\r\n",
    "            self.eye_color,\r\n",
    "            self.passport_id\r\n",
    "        ]\r\n",
    "\r\n",
    "        for field in fields:\r\n",
    "            if not field.is_valid():\r\n",
    "                return False\r\n",
    "        \r\n",
    "        return True\r\n",
    "\r\n",
    "field_factory = {\r\n",
    "    'byr': lambda x: BirthYear(x),\r\n",
    "    'iyr': lambda x: IssueYear(x),\r\n",
    "    'eyr': lambda x: ExpYear(x),\r\n",
    "    'hgt': lambda x: Height(x),\r\n",
    "    'hcl': lambda x: HairColor(x),\r\n",
    "    'ecl': lambda x: EyeColor(x),\r\n",
    "    'pid': lambda x: PassportId(x),\r\n",
    "    'cid': lambda x: x\r\n",
    "}\r\n",
    "\r\n",
    "def make_strict_passport(s):\r\n",
    "    prop_dict = {}\r\n",
    "    for line in s.splitlines():\r\n",
    "        for prop in line.split(' '):\r\n",
    "            k, v = prop.split(':')\r\n",
    "            prop_dict[k] = field_factory[k](v)\r\n",
    "    \r\n",
    "    return StrictPassport(prop_dict)"
   ]
  },
  {
   "cell_type": "code",
   "execution_count": 11,
   "metadata": {},
   "outputs": [
    {
     "data": {
      "text/plain": "175"
     },
     "execution_count": 11,
     "metadata": {},
     "output_type": "execute_result"
    }
   ],
   "source": [
    "passport_string = \"\"\r\n",
    "valid_passports = 0\r\n",
    "for line in puzzle.input_data.splitlines():\r\n",
    "    if line == \"\":\r\n",
    "        if make_strict_passport(passport_string).is_valid():\r\n",
    "            valid_passports += 1\r\n",
    "        passport_string = \"\"\r\n",
    "    else:\r\n",
    "        passport_string += line\r\n",
    "        passport_string += '\\n'\r\n",
    "\r\n",
    "if make_strict_passport(passport_string).is_valid():\r\n",
    "    valid_passports += 1\r\n",
    "\r\n",
    "valid_passports"
   ]
  },
  {
   "cell_type": "code",
   "execution_count": 12,
   "metadata": {},
   "outputs": [
    {
     "name": "stdout",
     "output_type": "stream",
     "text": [
      "That's the right answer!  You are one gold star closer to saving your vacation.You have completed Day 4! You can [Shareon\n",
      "  Twitter\n",
      "Mastodon] this victory or [Return to Your Advent Calendar].\n"
     ]
    }
   ],
   "source": [
    "puzzle.answer_b = valid_passports"
   ]
  }
 ],
 "metadata": {
  "kernelspec": {
   "display_name": "Python 3",
   "language": "python",
   "name": "python3"
  },
  "language_info": {
   "codemirror_mode": {
    "name": "ipython",
    "version": 3
   },
   "file_extension": ".py",
   "mimetype": "text/x-python",
   "name": "python",
   "nbconvert_exporter": "python",
   "pygments_lexer": "ipython3",
   "version": "3.8.6"
  },
  "orig_nbformat": 2
 },
 "nbformat": 4,
 "nbformat_minor": 2
}