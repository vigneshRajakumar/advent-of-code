{
 "cells": [
  {
   "cell_type": "markdown",
   "metadata": {},
   "source": [
    "# Day 1\n",
    "\n",
    "## Part 1\n",
    "From Day 1 of Advent of Code 2020:\n",
    "\n",
    "https://adventofcode.com/2020/day/1\n",
    "\n",
    "> Specifically, they need you to find the two entries that sum to 2020 and then multiply those two numbers together."
   ]
  },
  {
   "cell_type": "code",
   "execution_count": 1,
   "metadata": {},
   "outputs": [],
   "source": [
    "from aocd.models import Puzzle\n",
    "import numpy as np"
   ]
  },
  {
   "cell_type": "code",
   "execution_count": 2,
   "metadata": {},
   "outputs": [],
   "source": [
    "puzzle = Puzzle(year=2020, day=1)"
   ]
  },
  {
   "cell_type": "markdown",
   "metadata": {},
   "source": [
    "The data is a `str` with `\\n` separating each value. To make my life easier, I will convert this to an integer set."
   ]
  },
  {
   "cell_type": "code",
   "execution_count": 3,
   "metadata": {},
   "outputs": [],
   "source": [
    "report = set()\n",
    "\n",
    "for i in puzzle.input_data.splitlines():\n",
    "    report.add(int(i))"
   ]
  },
  {
   "cell_type": "markdown",
   "metadata": {},
   "source": [
    "Instead of iterating through the whole set twice, we can stop once we find `2020-i` in the set. "
   ]
  },
  {
   "cell_type": "code",
   "execution_count": 4,
   "metadata": {},
   "outputs": [
    {
     "name": "stdout",
     "output_type": "stream",
     "text": [
      "combination: 529 and 1491\n",
      "product: 788739\n"
     ]
    },
    {
     "data": {
      "text/plain": [
       "788739"
      ]
     },
     "execution_count": 4,
     "metadata": {},
     "output_type": "execute_result"
    }
   ],
   "source": [
    "answer = 0\n",
    "for i in report:\n",
    "    if 2020-i in report:\n",
    "        print(f'combination: {i} and {2020-i}')\n",
    "        print(f'product: {i*(2020-i)}')\n",
    "        answer = i*(2020-i)\n",
    "        break\n",
    "answer"
   ]
  },
  {
   "cell_type": "markdown",
   "metadata": {},
   "source": [
    "Let's submit!"
   ]
  },
  {
   "cell_type": "code",
   "execution_count": 5,
   "metadata": {},
   "outputs": [],
   "source": [
    "puzzle.answer_a = answer"
   ]
  },
  {
   "cell_type": "markdown",
   "metadata": {},
   "source": [
    "Alright, that worked. \n",
    "\n",
    "## Part 2\n",
    "\n",
    "> In your expense report, what is the product of the three entries that sum to 2020?"
   ]
  },
  {
   "cell_type": "code",
   "execution_count": 6,
   "metadata": {},
   "outputs": [
    {
     "name": "stdout",
     "output_type": "stream",
     "text": [
      "combination: 222, 843, 955\n",
      "product: 178724430\n"
     ]
    },
    {
     "data": {
      "text/plain": [
       "178724430"
      ]
     },
     "execution_count": 6,
     "metadata": {},
     "output_type": "execute_result"
    }
   ],
   "source": [
    "answer_b = np.nan\n",
    "for i in report:\n",
    "    for j in report:\n",
    "        if 2020-i-j in report:\n",
    "            print(f'combination: {i}, {j}, {2020-i-j}')\n",
    "            print(f'product: {i*j*(2020-i-j)}')\n",
    "            answer_b = i*j*(2020-i-j)\n",
    "            break\n",
    "    if not np.isnan(answer_b):\n",
    "        break\n",
    "answer_b"
   ]
  },
  {
   "cell_type": "code",
   "execution_count": 7,
   "metadata": {},
   "outputs": [],
   "source": [
    "puzzle.answer_b = answer_b"
   ]
  },
  {
   "cell_type": "markdown",
   "metadata": {},
   "source": [
    "# VICTORY!"
   ]
  }
 ],
 "metadata": {
  "kernelspec": {
   "display_name": "Python [conda env:advent]",
   "language": "python",
   "name": "conda-env-advent-py"
  },
  "language_info": {
   "codemirror_mode": {
    "name": "ipython",
    "version": 3
   },
   "file_extension": ".py",
   "mimetype": "text/x-python",
   "name": "python",
   "nbconvert_exporter": "python",
   "pygments_lexer": "ipython3",
   "version": "3.8.6"
  }
 },
 "nbformat": 4,
 "nbformat_minor": 2
}
