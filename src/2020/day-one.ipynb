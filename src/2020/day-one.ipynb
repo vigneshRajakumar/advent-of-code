{
 "cells": [
  {
   "cell_type": "markdown",
   "metadata": {},
   "source": [
    "# Day 1\r\n",
    "\r\n",
    "## Part 1\r\n",
    "From Day 1 of Advent of Code 2020:\r\n",
    "\r\n",
    "https://adventofcode.com/2020/day/1\r\n",
    "\r\n",
    "> Specifically, they need you to find the two entries that sum to 2020 and then multiply those two numbers together."
   ]
  },
  {
   "cell_type": "code",
   "execution_count": 19,
   "metadata": {},
   "outputs": [],
   "source": [
    "from aocd.models import Puzzle\r\n",
    "import numpy as np"
   ]
  },
  {
   "cell_type": "code",
   "execution_count": 5,
   "metadata": {},
   "outputs": [
    {
     "data": {
      "text/plain": "'1652\\n1998\\n1677\\n1855\\n1955\\n1875\\n1993\\n1860\\n1752\\n1936\\n1816\\n1924\\n1872\\n2000\\n1967\\n1882\\n1737\\n1801\\n1832\\n1985\\n1933\\n1911\\n1894\\n1384\\n1871\\n1607\\n1858\\n1950\\n222\\n1931\\n1635\\n1960\\n1909\\n1884\\n1921\\n1959\\n1981\\n1920\\n1684\\n1734\\n1490\\n1632\\n1935\\n1982\\n217\\n1874\\n1646\\n1943\\n986\\n1509\\n1899\\n1834\\n1908\\n1769\\n1989\\n1977\\n1436\\n1973\\n1974\\n1941\\n1624\\n2006\\n1867\\n843\\n2003\\n1838\\n1904\\n1892\\n1972\\n1957\\n1890\\n1540\\n1578\\n1845\\n1912\\n1947\\n1847\\n1841\\n1793\\n2005\\n1716\\n1852\\n1865\\n1532\\n1800\\n1949\\n1898\\n1698\\n1806\\n1840\\n1833\\n1915\\n479\\n1963\\n1923\\n1567\\n1849\\n1536\\n1741\\n1818\\n1934\\n1952\\n1805\\n1868\\n1808\\n955\\n1954\\n1712\\n1797\\n1472\\n1807\\n1673\\n1601\\n1883\\n1869\\n1969\\n1886\\n1491\\n1572\\n2010\\n1796\\n1870\\n1946\\n1938\\n1813\\n1825\\n1944\\n129\\n1856\\n1827\\n1939\\n1642\\n1542\\n745\\n1836\\n1810\\n529\\n1822\\n1917\\n486\\n1953\\n2008\\n1991\\n1628\\n1937\\n1987\\n1837\\n1820\\n1922\\n1850\\n1893\\n1942\\n1928\\n1990\\n1589\\n1970\\n1986\\n1925\\n1902\\n2009\\n1565\\n1610\\n1857\\n1889\\n1901\\n1790\\n1880\\n1999\\n1964\\n1948\\n1824\\n1877\\n1916\\n1978\\n1839\\n1659\\n1846\\n323\\n1387\\n1926\\n1958\\n1914\\n1906\\n178\\n1979\\n1994\\n2004\\n1862\\n1704\\n1903\\n1997\\n1876\\n1992\\n1864\\n1932\\n1918\\n1962\\n1802\\n1278\\n1861'"
     },
     "execution_count": 5,
     "metadata": {},
     "output_type": "execute_result"
    }
   ],
   "source": [
    "puzzle = Puzzle(year=2020, day=1)\r\n",
    "puzzle.input_data"
   ]
  },
  {
   "cell_type": "markdown",
   "metadata": {},
   "source": [
    "The data is a `str` with `\\n` separating each value. To make my life easier, I will convert this in an integer set."
   ]
  },
  {
   "cell_type": "code",
   "execution_count": 10,
   "metadata": {},
   "outputs": [],
   "source": [
    "report = set()\r\n",
    "\r\n",
    "for i in puzzle.input_data.splitlines():\r\n",
    "    report.add(int(i))"
   ]
  },
  {
   "cell_type": "markdown",
   "metadata": {},
   "source": [
    "Instead of iterating through the whole set twice, we can stop once we find `2020-i` in the set. "
   ]
  },
  {
   "cell_type": "code",
   "execution_count": 15,
   "metadata": {},
   "outputs": [
    {
     "name": "stdout",
     "output_type": "stream",
     "text": [
      "combination: 529 and 1491\n",
      "product: 788739\n"
     ]
    },
    {
     "data": {
      "text/plain": "788739"
     },
     "execution_count": 15,
     "metadata": {},
     "output_type": "execute_result"
    }
   ],
   "source": [
    "answer = 0\r\n",
    "for i in report:\r\n",
    "    if 2020-i in report:\r\n",
    "        print(f'combination: {i} and {2020-i}')\r\n",
    "        print(f'product: {i*(2020-i)}')\r\n",
    "        answer = i*(2020-i)\r\n",
    "        break\r\n",
    "answer"
   ]
  },
  {
   "cell_type": "markdown",
   "metadata": {},
   "source": [
    "Let's submit!"
   ]
  },
  {
   "cell_type": "code",
   "execution_count": 16,
   "metadata": {},
   "outputs": [
    {
     "name": "stdout",
     "output_type": "stream",
     "text": [
      "That's the right answer!  You are one gold star closer to saving your vacation. [Continue to Part Two]\n"
     ]
    }
   ],
   "source": [
    "puzzle.answer_a = answer"
   ]
  },
  {
   "cell_type": "markdown",
   "metadata": {},
   "source": [
    "Alright, that worked. \r\n",
    "\r\n",
    "## Part 2\r\n",
    "\r\n",
    "> In your expense report, what is the product of the three entries that sum to 2020?"
   ]
  },
  {
   "cell_type": "code",
   "execution_count": 25,
   "metadata": {},
   "outputs": [
    {
     "name": "stdout",
     "output_type": "stream",
     "text": [
      "combination: 222, 843, 955\n",
      "product: 178724430\n"
     ]
    },
    {
     "data": {
      "text/plain": "178724430"
     },
     "execution_count": 25,
     "metadata": {},
     "output_type": "execute_result"
    }
   ],
   "source": [
    "answer_b = np.nan\r\n",
    "for i in report:\r\n",
    "    for j in report:\r\n",
    "        if 2020-i-j in report:\r\n",
    "            print(f'combination: {i}, {j}, {2020-i-j}')\r\n",
    "            print(f'product: {i*j*(2020-i-j)}')\r\n",
    "            answer_b = i*j*(2020-i-j)\r\n",
    "            break\r\n",
    "    if not np.isnan(answer_b):\r\n",
    "        break\r\n",
    "answer_b"
   ]
  },
  {
   "cell_type": "code",
   "execution_count": 26,
   "metadata": {},
   "outputs": [
    {
     "name": "stdout",
     "output_type": "stream",
     "text": [
      "That's the right answer!  You are one gold star closer to saving your vacation.You have completed Day 1! You can [Shareon\n",
      "  Twitter\n",
      "Mastodon] this victory or [Return to Your Advent Calendar].\n"
     ]
    }
   ],
   "source": [
    "puzzle.answer_b = answer_b"
   ]
  },
  {
   "cell_type": "markdown",
   "metadata": {},
   "source": [
    "# VICTORY!"
   ]
  }
 ],
 "metadata": {
  "kernelspec": {
   "display_name": "Python 3.8.6 64-bit ('advent': conda)",
   "metadata": {
    "interpreter": {
     "hash": "9f1d9feafe9e1f51ce18cd8b6f0aafcbf60942ed08304335a950ece49687a5ad"
    }
   },
   "name": "python3"
  },
  "language_info": {
   "codemirror_mode": {
    "name": "ipython",
    "version": 3
   },
   "file_extension": ".py",
   "mimetype": "text/x-python",
   "name": "python",
   "nbconvert_exporter": "python",
   "pygments_lexer": "ipython3",
   "version": "3.8.6"
  },
  "orig_nbformat": 2
 },
 "nbformat": 4,
 "nbformat_minor": 2
}