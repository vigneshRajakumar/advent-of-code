{
 "cells": [
  {
   "cell_type": "markdown",
   "metadata": {},
   "source": [
    "# Day 2\n",
    "## Part 1\n",
    "\n",
    "> Each entry has a policy and a password\n",
    ">\n",
    "> How many passwords are valid according to their policies?"
   ]
  },
  {
   "cell_type": "code",
   "execution_count": 13,
   "metadata": {},
   "outputs": [],
   "source": [
    "from aocd.models import Puzzle\n",
    "import numpy as np"
   ]
  },
  {
   "cell_type": "code",
   "execution_count": 14,
   "metadata": {},
   "outputs": [],
   "source": [
    "puzzle = Puzzle(year=2020, day=2)"
   ]
  },
  {
   "cell_type": "code",
   "execution_count": 15,
   "metadata": {},
   "outputs": [
    {
     "data": {
      "text/plain": [
       "['4-5 t: ftttttrvts',\n",
       " '7-8 k: kkkkkkkf',\n",
       " '4-6 k: gqjkkk',\n",
       " '1-2 t: rttb',\n",
       " '7-10 z: gzjtmtcrzv']"
      ]
     },
     "execution_count": 15,
     "metadata": {},
     "output_type": "execute_result"
    }
   ],
   "source": [
    "passwords = puzzle.input_data.splitlines()\n",
    "passwords[:5]"
   ]
  },
  {
   "cell_type": "markdown",
   "metadata": {},
   "source": [
    "For some reason, I felt like doing this with classes. There might be other less involved, more efficient ways to do this, but I love OOP so, here goes:"
   ]
  },
  {
   "cell_type": "code",
   "execution_count": 52,
   "metadata": {},
   "outputs": [],
   "source": [
    "class Policy:\n",
    "    def __init__(self, s):\n",
    "        tokens = s.split(' ')\n",
    "        self.character = tokens[1]\n",
    "        _ = tokens[0].split('-')\n",
    "        self.min_occur = int(_[0])\n",
    "        self.max_occur = int(_[1])\n",
    "        \n",
    "    def is_valid(self, s):\n",
    "        _count = s.count(self.character)\n",
    "        return not (_count < self.min_occur or _count > self.max_occur)\n",
    "\n",
    "class PasswordEntry:\n",
    "    def __init__(self, s):\n",
    "        tokens = s.split(':')\n",
    "        self.policy = Policy(tokens[0])\n",
    "        self.password = tokens[1].strip()\n",
    "        self.is_valid = self.policy.is_valid(self.password)"
   ]
  },
  {
   "cell_type": "code",
   "execution_count": 53,
   "metadata": {},
   "outputs": [
    {
     "data": {
      "text/plain": [
       "560"
      ]
     },
     "execution_count": 53,
     "metadata": {},
     "output_type": "execute_result"
    }
   ],
   "source": [
    "count = 0\n",
    "for line in passwords:\n",
    "    entry = PasswordEntry(line)\n",
    "    if entry.is_valid:\n",
    "        count+=1\n",
    "\n",
    "count"
   ]
  },
  {
   "cell_type": "code",
   "execution_count": 54,
   "metadata": {},
   "outputs": [],
   "source": [
    "puzzle.answer_a = count"
   ]
  },
  {
   "cell_type": "markdown",
   "metadata": {},
   "source": [
    "Huzzah!\n",
    "\n",
    "On to part 2\n",
    "\n",
    "## Part 2\n",
    "\n",
    "> Each policy describes two positions in the password. How many passwords are valid now?\n",
    "\n",
    "Woot! using OOP paid off! We should be able to reuse most of the code from above but we have to rewrite `PasswordEntry` to work with any `Policy` object"
   ]
  },
  {
   "cell_type": "code",
   "execution_count": 60,
   "metadata": {},
   "outputs": [],
   "source": [
    "class NewPolicy(Policy):\n",
    "    def is_valid(self, s):\n",
    "        return ((s[self.min_occur-1] == self.character) ^ (s[self.max_occur-1] == self.character))\n",
    "\n",
    "class PasswordEntry:\n",
    "    def __init__(self, s, policy_factory):\n",
    "        tokens = s.split(':')\n",
    "        self.policy = policy_factory(tokens[0])\n",
    "        self.password = tokens[1].strip()\n",
    "        self.is_valid = self.policy.is_valid(self.password)"
   ]
  },
  {
   "cell_type": "markdown",
   "metadata": {},
   "source": [
    "I didn't want to create a `Factory` class for `Policy`. I can achieve the same effect with lambda functions. Let's just double check that this new implementation works for part 1:"
   ]
  },
  {
   "cell_type": "code",
   "execution_count": 61,
   "metadata": {},
   "outputs": [
    {
     "data": {
      "text/plain": [
       "560"
      ]
     },
     "execution_count": 61,
     "metadata": {},
     "output_type": "execute_result"
    }
   ],
   "source": [
    "count = 0\n",
    "for line in passwords:\n",
    "    entry = PasswordEntry(line, lambda a: Policy(a))\n",
    "    if entry.is_valid:\n",
    "        count+=1\n",
    "\n",
    "count"
   ]
  },
  {
   "cell_type": "markdown",
   "metadata": {},
   "source": [
    "Aright! moving on:"
   ]
  },
  {
   "cell_type": "code",
   "execution_count": 62,
   "metadata": {},
   "outputs": [
    {
     "data": {
      "text/plain": [
       "303"
      ]
     },
     "execution_count": 62,
     "metadata": {},
     "output_type": "execute_result"
    }
   ],
   "source": [
    "count = 0\n",
    "for line in passwords:\n",
    "    entry = PasswordEntry(line, lambda a: NewPolicy(a))\n",
    "    if entry.is_valid:\n",
    "        count+=1\n",
    "\n",
    "count"
   ]
  },
  {
   "cell_type": "code",
   "execution_count": 63,
   "metadata": {},
   "outputs": [
    {
     "name": "stdout",
     "output_type": "stream",
     "text": [
      "That's the right answer!  You are one gold star closer to saving your vacation.You have completed Day 2! You can [Shareon\n",
      "  Twitter\n",
      "Mastodon] this victory or [Return to Your Advent Calendar].\n"
     ]
    }
   ],
   "source": [
    "puzzle.answer_b = count"
   ]
  },
  {
   "cell_type": "markdown",
   "metadata": {},
   "source": [
    "# VICTORY!"
   ]
  }
 ],
 "metadata": {
  "kernelspec": {
   "display_name": "Python [conda env:advent]",
   "language": "python",
   "name": "conda-env-advent-py"
  },
  "language_info": {
   "codemirror_mode": {
    "name": "ipython",
    "version": 3
   },
   "file_extension": ".py",
   "mimetype": "text/x-python",
   "name": "python",
   "nbconvert_exporter": "python",
   "pygments_lexer": "ipython3",
   "version": "3.8.6"
  }
 },
 "nbformat": 4,
 "nbformat_minor": 2
}
