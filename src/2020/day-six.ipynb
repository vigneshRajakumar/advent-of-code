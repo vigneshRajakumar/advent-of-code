{
 "cells": [
  {
   "cell_type": "markdown",
   "metadata": {},
   "source": [
    "# Day 6\r\n",
    "## Part 1"
   ]
  },
  {
   "cell_type": "code",
   "execution_count": 1,
   "metadata": {},
   "outputs": [],
   "source": [
    "from aocd.models import Puzzle\r\n",
    "import numpy as np"
   ]
  },
  {
   "cell_type": "code",
   "execution_count": 2,
   "metadata": {},
   "outputs": [],
   "source": [
    "puzzle = Puzzle(year=2020, day=6)"
   ]
  },
  {
   "cell_type": "code",
   "execution_count": 33,
   "metadata": {},
   "outputs": [],
   "source": [
    "def count_yes(group_text):\r\n",
    "    yes_set = set()\r\n",
    "    for line in group_text.splitlines():\r\n",
    "        yes_set |= set(line)\r\n",
    "    yes_set -= set('\\n')\r\n",
    "    return len(yes_set)"
   ]
  },
  {
   "cell_type": "code",
   "execution_count": 34,
   "metadata": {},
   "outputs": [
    {
     "data": {
      "text/plain": "6583"
     },
     "execution_count": 34,
     "metadata": {},
     "output_type": "execute_result"
    }
   ],
   "source": [
    "group_text = \"\"\r\n",
    "total_yes = 0\r\n",
    "\r\n",
    "for line in puzzle.input_data.splitlines():\r\n",
    "    if line == \"\":\r\n",
    "        total_yes += count_yes(group_text)\r\n",
    "        group_text = \"\"\r\n",
    "    else:\r\n",
    "        group_text += line\r\n",
    "        group_text += '\\n'\r\n",
    "\r\n",
    "total_yes += count_yes(group_text)\r\n",
    "\r\n",
    "total_yes"
   ]
  },
  {
   "cell_type": "code",
   "execution_count": 16,
   "metadata": {},
   "outputs": [
    {
     "name": "stdout",
     "output_type": "stream",
     "text": [
      "That's the right answer!  You are one gold star closer to saving your vacation. [Continue to Part Two]\n"
     ]
    }
   ],
   "source": [
    "puzzle.answer_a = total_yes"
   ]
  },
  {
   "cell_type": "code",
   "execution_count": 35,
   "metadata": {},
   "outputs": [
    {
     "data": {
      "text/plain": "2"
     },
     "execution_count": 35,
     "metadata": {},
     "output_type": "execute_result"
    }
   ],
   "source": [
    "def count_yes(group_text):\r\n",
    "    yes_set = set('abcdefghijklmnopqrstuvwxyz')\r\n",
    "    for line in group_text.splitlines():\r\n",
    "        yes_set &= set(line)\r\n",
    "    yes_set -= set('\\n')\r\n",
    "    return len(yes_set)\r\n",
    "\r\n",
    "s = \"\"\"mz\r\n",
    "mz\r\n",
    "mzch\"\"\"\r\n",
    "\r\n",
    "count_yes(s)"
   ]
  },
  {
   "cell_type": "code",
   "execution_count": 36,
   "metadata": {},
   "outputs": [
    {
     "data": {
      "text/plain": "3290"
     },
     "execution_count": 36,
     "metadata": {},
     "output_type": "execute_result"
    }
   ],
   "source": [
    "group_text = \"\"\r\n",
    "total_yes = 0\r\n",
    "\r\n",
    "for line in puzzle.input_data.splitlines():\r\n",
    "    if line == \"\":\r\n",
    "        total_yes += count_yes(group_text)\r\n",
    "        group_text = \"\"\r\n",
    "    else:\r\n",
    "        group_text += line\r\n",
    "        group_text += '\\n'\r\n",
    "\r\n",
    "total_yes += count_yes(group_text)\r\n",
    "\r\n",
    "total_yes"
   ]
  },
  {
   "cell_type": "code",
   "execution_count": 37,
   "metadata": {},
   "outputs": [
    {
     "name": "stdout",
     "output_type": "stream",
     "text": [
      "That's the right answer!  You are one gold star closer to saving your vacation.You have completed Day 6! You can [Shareon\n",
      "  Twitter\n",
      "Mastodon] this victory or [Return to Your Advent Calendar].\n"
     ]
    }
   ],
   "source": [
    "puzzle.answer_b = total_yes"
   ]
  }
 ],
 "metadata": {
  "kernelspec": {
   "display_name": "Python 3",
   "language": "python",
   "name": "python3"
  },
  "language_info": {
   "codemirror_mode": {
    "name": "ipython",
    "version": 3
   },
   "file_extension": ".py",
   "mimetype": "text/x-python",
   "name": "python",
   "nbconvert_exporter": "python",
   "pygments_lexer": "ipython3",
   "version": "3.8.6"
  },
  "orig_nbformat": 2
 },
 "nbformat": 4,
 "nbformat_minor": 2
}