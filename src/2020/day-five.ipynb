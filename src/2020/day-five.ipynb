{
 "cells": [
  {
   "cell_type": "markdown",
   "metadata": {},
   "source": [
    "# Day 5\r\n",
    "## Part 1"
   ]
  },
  {
   "cell_type": "code",
   "execution_count": 12,
   "metadata": {},
   "outputs": [],
   "source": [
    "from aocd.models import Puzzle\r\n",
    "import numpy as np"
   ]
  },
  {
   "cell_type": "code",
   "execution_count": 2,
   "metadata": {},
   "outputs": [],
   "source": [
    "puzzle = Puzzle(year=2020, day=5)"
   ]
  },
  {
   "cell_type": "code",
   "execution_count": 9,
   "metadata": {},
   "outputs": [
    {
     "data": {
      "text/plain": "871"
     },
     "execution_count": 9,
     "metadata": {},
     "output_type": "execute_result"
    }
   ],
   "source": [
    "highest = -1\r\n",
    "\r\n",
    "def get_seat_id(line):\r\n",
    "    front = 0\r\n",
    "    back = 127\r\n",
    "    left = 0\r\n",
    "    right = 7\r\n",
    "    for c in line:\r\n",
    "        if c == 'F':\r\n",
    "            back = (front + back)//2\r\n",
    "        elif c == 'B':\r\n",
    "            front = (front + back)//2\r\n",
    "        elif c == 'L':\r\n",
    "            right = (left + right)//2\r\n",
    "        elif c == 'R':\r\n",
    "            left = (left + right)//2\r\n",
    "    return back * 8 + right\r\n",
    "\r\n",
    "\r\n",
    "for line in puzzle.input_data.splitlines():\r\n",
    "    seat_id = get_seat_id(line)\r\n",
    "    if seat_id > highest:\r\n",
    "        highest = seat_id\r\n",
    "\r\n",
    "highest"
   ]
  },
  {
   "cell_type": "code",
   "execution_count": 10,
   "metadata": {},
   "outputs": [
    {
     "name": "stdout",
     "output_type": "stream",
     "text": [
      "That's the right answer!  You are one gold star closer to saving your vacation. [Continue to Part Two]\n"
     ]
    }
   ],
   "source": [
    "puzzle.answer_a = highest"
   ]
  },
  {
   "cell_type": "code",
   "execution_count": 20,
   "metadata": {},
   "outputs": [
    {
     "data": {
      "text/plain": "array([0., 0., 0., ..., 0., 0., 0.])"
     },
     "execution_count": 20,
     "metadata": {},
     "output_type": "execute_result"
    }
   ],
   "source": [
    "n_seats = puzzle.input_data.count('\\n')\r\n",
    "\r\n",
    "seat_arr = np.zeros(n_seats*2)\r\n",
    "\r\n",
    "for line in puzzle.input_data.splitlines():\r\n",
    "    seat_id = get_seat_id(line)\r\n",
    "    seat_arr[seat_id] = 1\r\n",
    "\r\n",
    "seat_arr"
   ]
  },
  {
   "cell_type": "markdown",
   "metadata": {},
   "source": [
    "delete leading and trailing zeroes"
   ]
  },
  {
   "cell_type": "code",
   "execution_count": 21,
   "metadata": {},
   "outputs": [
    {
     "data": {
      "text/plain": "array([1., 1., 1., ..., 1., 1., 1.])"
     },
     "execution_count": 21,
     "metadata": {},
     "output_type": "execute_result"
    }
   ],
   "source": [
    "idx = 0\r\n",
    "while(seat_arr[idx] == 0):\r\n",
    "    seat_arr[idx] = 1\r\n",
    "    idx += 1\r\n",
    "\r\n",
    "idx = len(seat_arr) - 1\r\n",
    "while(seat_arr[idx] == 0):\r\n",
    "    seat_arr[idx] = 1\r\n",
    "    idx -= 1\r\n",
    "\r\n",
    "seat_arr"
   ]
  },
  {
   "cell_type": "code",
   "execution_count": 23,
   "metadata": {},
   "outputs": [
    {
     "data": {
      "text/plain": "640"
     },
     "execution_count": 23,
     "metadata": {},
     "output_type": "execute_result"
    }
   ],
   "source": [
    "idx = 0\r\n",
    "while(seat_arr[idx] == 1):\r\n",
    "    idx += 1\r\n",
    "\r\n",
    "idx"
   ]
  },
  {
   "cell_type": "code",
   "execution_count": 24,
   "metadata": {},
   "outputs": [
    {
     "name": "stdout",
     "output_type": "stream",
     "text": [
      "That's the right answer!  You are one gold star closer to saving your vacation.You have completed Day 5! You can [Shareon\n",
      "  Twitter\n",
      "Mastodon] this victory or [Return to Your Advent Calendar].\n"
     ]
    }
   ],
   "source": [
    "puzzle.answer_b = idx"
   ]
  }
 ],
 "metadata": {
  "kernelspec": {
   "display_name": "Python 3",
   "language": "python",
   "name": "python3"
  },
  "language_info": {
   "codemirror_mode": {
    "name": "ipython",
    "version": 3
   },
   "file_extension": ".py",
   "mimetype": "text/x-python",
   "name": "python",
   "nbconvert_exporter": "python",
   "pygments_lexer": "ipython3",
   "version": "3.8.6"
  },
  "orig_nbformat": 2
 },
 "nbformat": 4,
 "nbformat_minor": 2
}